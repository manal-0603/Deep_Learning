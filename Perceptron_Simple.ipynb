{
 "cells": [
  {
   "cell_type": "markdown",
   "id": "1a2f2a62",
   "metadata": {},
   "source": [
    "# Perceptron simple"
   ]
  },
  {
   "cell_type": "code",
   "execution_count": 216,
   "id": "2e1cbbc1",
   "metadata": {},
   "outputs": [],
   "source": [
    "import numpy as np\n",
    "import matplotlib.pyplot as plt\n",
    "from sklearn.datasets import make_blobs\n",
    "from sklearn.model_selection import train_test_split\n",
    "from sklearn.metrics import accuracy_score"
   ]
  },
  {
   "cell_type": "markdown",
   "id": "e69e7157",
   "metadata": {},
   "source": [
    "# 1. Dataset\n",
    "Génération de données aléatoires avec une tendance linéaire avec make_blobs: on a un dataset (x, y) qui contient 100 exemples, et deux variables x1.et x2\n",
    "\n",
    "Note: chaque fois que la cellule est executée, des données différentes sont générer donc on affecte à l'argument random_state la valeur 0 pour reproduire le meme Dataset à chaque fois."
   ]
  },
  {
   "cell_type": "code",
   "execution_count": 217,
   "id": "4fc7dc8f",
   "metadata": {},
   "outputs": [
    {
     "data": {
      "text/plain": [
       "<matplotlib.collections.PathCollection at 0x2937d921f40>"
      ]
     },
     "execution_count": 217,
     "metadata": {},
     "output_type": "execute_result"
    },
    {
     "data": {
      "image/png": "[encoded data removed]",
      "text/plain": [
       "<Figure size 432x288 with 1 Axes>"
      ]
     },
     "metadata": {
      "needs_background": "light"
     },
     "output_type": "display_data"
    }
   ],
   "source": [
    "X, Y = make_blobs(n_samples=100, n_features=2, random_state=0, centers=2)\n",
    "\n",
    "plt.scatter(X[:,0], X[:,1], c=Y) # afficher les résultats. X[:,0] en abscisse et X[:,1] en ordonnée"
   ]
  },
  {
   "cell_type": "markdown",
   "id": "fe7802f9",
   "metadata": {},
   "source": [
    "Pour effectuer un calcul matriciel correct, il est important de vérifier les dimensions de X et Y. On remarque que y n'a pas les dimensions (100, 1). On corrige le probleme avec np.reshape"
   ]
  },
  {
   "cell_type": "code",
   "execution_count": 218,
   "id": "8224041d",
   "metadata": {},
   "outputs": [
    {
     "name": "stdout",
     "output_type": "stream",
     "text": [
      "Les dimensions de X :  (100, 2)\n",
      "Les dimensions de Y :  (100,)\n",
      "Les nouvelles dimensions de Y :  (100, 1)\n"
     ]
    }
   ],
   "source": [
    "print('Les dimensions de X : ',X.shape)\n",
    "print('Les dimensions de Y : ',Y.shape)\n",
    "\n",
    "# redimensionner y\n",
    "Y = Y.reshape(Y.shape[0], 1)\n",
    "\n",
    "print('Les nouvelles dimensions de Y : ',Y.shape)"
   ]
  },
  {
   "cell_type": "markdown",
   "id": "bb5cf15f",
   "metadata": {},
   "source": [
    "#### Division de X et Y en sous ensemble train et test"
   ]
  },
  {
   "cell_type": "code",
   "execution_count": 219,
   "id": "cbb17540",
   "metadata": {},
   "outputs": [
    {
     "name": "stdout",
     "output_type": "stream",
     "text": [
      "(80, 2)\n",
      "(20, 2)\n"
     ]
    }
   ],
   "source": [
    "X_train, X_test, Y_train, Y_test = train_test_split(X, Y, test_size=0.2, random_state=5)\n",
    "\n",
    "print(X_train.shape)\n",
    "print(X_test.shape)"
   ]
  },
  {
   "cell_type": "markdown",
   "id": "0010d838",
   "metadata": {},
   "source": [
    "# 2. Fonctions du modèle\n",
    "### - Initialisation des parametres W et b de notre modèle"
   ]
  },
  {
   "cell_type": "code",
   "execution_count": 220,
   "id": "bb0dbaa8",
   "metadata": {},
   "outputs": [],
   "source": [
    "def initialisation(X):\n",
    "    W = np.random.randn(X.shape[1],1)\n",
    "    b = np.random.randn(1,1)\n",
    "    return (W,b)"
   ]
  },
  {
   "cell_type": "code",
   "execution_count": 221,
   "id": "015006cd",
   "metadata": {},
   "outputs": [
    {
     "name": "stdout",
     "output_type": "stream",
     "text": [
      "Les dimensions de W :  (2, 1)\n",
      "Les dimensions de b :  (1, 1)\n"
     ]
    }
   ],
   "source": [
    "# Test de la fonction initialisation\n",
    "W, b = initialisation(X)\n",
    "\n",
    "print('Les dimensions de W : ',W.shape)\n",
    "print('Les dimensions de b : ',b.shape)"
   ]
  },
  {
   "cell_type": "markdown",
   "id": "c84924b3",
   "metadata": {},
   "source": [
    "### - Modele\n",
    "On implémente la fonction qui represente notre modele celle dans laquelle on va retrouver la fonction lineaire $Z = X.W + b$ puis notre fonction d'activation sigmoïde (ou fonction logistique) $ A = \\frac{1}{1 + e^{-Z}}  $ \n",
    "\n",
    "Ensuite on teste le modele pour voir s'il n'y a pas d'erreur. "
   ]
  },
  {
   "cell_type": "code",
   "execution_count": 222,
   "id": "447d7f8b",
   "metadata": {},
   "outputs": [],
   "source": [
    "def model(X, W, b):\n",
    "    Z = X.dot(W) + b\n",
    "    A = 1 / (1 + np.exp(-Z))\n",
    "    return A"
   ]
  },
  {
   "cell_type": "code",
   "execution_count": 223,
   "id": "de08c23d",
   "metadata": {},
   "outputs": [
    {
     "name": "stdout",
     "output_type": "stream",
     "text": [
      "Les dimensions de A :  (80, 1)\n"
     ]
    }
   ],
   "source": [
    "# Test de la fonction model\n",
    "A = model(X_train, W, b)\n",
    "\n",
    "print('Les dimensions de A : ',A.shape)"
   ]
  },
  {
   "cell_type": "markdown",
   "id": "a65beba0",
   "metadata": {},
   "source": [
    "### - La fonction cout\n",
    "On mesure la performance de notre modele càd les erreurs du modele sur le Dataset X,Y\n",
    "\n",
    "$ L = \\frac{-1}{m} \\sum (Y.\\log(A) +(1-Y).\\log(1-A)) $\n",
    "\n",
    "Ensuite, on teste notre fonction, pour voir s'il n'y a pas d'erreurs"
   ]
  },
  {
   "cell_type": "code",
   "execution_count": 224,
   "id": "de3751f9",
   "metadata": {},
   "outputs": [],
   "source": [
    "def log_loss(A, Y):\n",
    "    m = Y.shape[0]\n",
    "    return (-1/m) * np.sum((Y * np.log(A)) + ((1 - Y) * np.log(1 - A)))\n"
   ]
  },
  {
   "cell_type": "code",
   "execution_count": 225,
   "id": "679e1dcc",
   "metadata": {},
   "outputs": [
    {
     "data": {
      "text/plain": [
       "0.9744218183795867"
      ]
     },
     "execution_count": 225,
     "metadata": {},
     "output_type": "execute_result"
    }
   ],
   "source": [
    "# Test de la fonction log_loss\n",
    "\n",
    "log_loss(A,Y_train)"
   ]
  },
  {
   "cell_type": "markdown",
   "id": "3fcc20c5",
   "metadata": {},
   "source": [
    "### - Gradients et Descente de Gradient\n",
    "On Calcul le gradient de la fonction cout grace aux formules suivantes : \n",
    "\n",
    "$\\frac{\\partial L }{\\partial W} = \\frac{1}{m} X^T.(A - Y)$\n",
    "\n",
    "$\\frac{\\partial L }{\\partial b} = \\frac{1}{m} \\sum (A - Y)$\n",
    "\n",
    "Puis nous utiliserons ces gradients dans la fonction descente de gradient qui permettra de mettre à jour les parametres W et b\n",
    "pour minimiser les erreurs\n",
    "\n",
    "$W = W - \\alpha \\frac{\\partial L }{\\partial W}$\n",
    "\n",
    "$b = b - \\alpha \\frac{\\partial L }{\\partial b}$"
   ]
  },
  {
   "cell_type": "code",
   "execution_count": 226,
   "id": "2e8abdd3",
   "metadata": {},
   "outputs": [],
   "source": [
    "def gradients(A, X, Y):\n",
    "    m = Y.shape[0]\n",
    "    dW = (1/m) * np.dot(X.T, A - Y)\n",
    "    db = (1/m) * np.sum(A - Y)\n",
    "    return (dW, db)"
   ]
  },
  {
   "cell_type": "code",
   "execution_count": 227,
   "id": "5bf71fcd",
   "metadata": {},
   "outputs": [
    {
     "name": "stdout",
     "output_type": "stream",
     "text": [
      "Les dimensions de dW :  (2, 1)\n",
      "La dérivée du biais :  -0.40541383832391364\n"
     ]
    }
   ],
   "source": [
    "#Test de la fonction gradients\n",
    "dW, db = gradients(A, X_train, Y_train)\n",
    "\n",
    "print('Les dimensions de dW : ',dW.shape)\n",
    "print('La dérivée du biais : ',db)"
   ]
  },
  {
   "cell_type": "code",
   "execution_count": 228,
   "id": "db2979cf",
   "metadata": {},
   "outputs": [],
   "source": [
    "def gradient_descent(W, b, dW, db, learning_rate):\n",
    "    W = W - learning_rate * dW\n",
    "    b = b - learning_rate * db\n",
    "    return (W, b)"
   ]
  },
  {
   "cell_type": "code",
   "execution_count": 229,
   "id": "f4a28672",
   "metadata": {},
   "outputs": [
    {
     "name": "stdout",
     "output_type": "stream",
     "text": [
      "Les valeurs initiales de W et b  : \n",
      "w1 :  [0.11762725]   ,  w2 :  [-1.20498289]   ,  b :  [[-0.46244641]]\n",
      "\n",
      "Les nouvelles valeurs de W et b : \n",
      "w1 :  [0.20267428]   ,  w2 :  [-1.15276239]   ,  b :  [[-0.42190503]]\n"
     ]
    }
   ],
   "source": [
    "#Test de la fonction gradient_descent\n",
    "\n",
    "print('Les valeurs initiales de W et b  : ')\n",
    "print('w1 : ',W[0],'  ,  w2 : ',W[1],'  ,  b : ',b)\n",
    "\n",
    "print('\\nLes nouvelles valeurs de W et b : ')\n",
    "learning_rate = 0.1\n",
    "W, b = gradient_descent(W, b, dW, db, learning_rate)\n",
    "print('w1 : ',W[0],'  ,  w2 : ',W[1],'  ,  b : ',b)"
   ]
  },
  {
   "cell_type": "code",
   "execution_count": 230,
   "id": "ac6ced85",
   "metadata": {},
   "outputs": [],
   "source": [
    "def predict(X, W, b):\n",
    "    A = model(X, W, b)\n",
    "    return A >= 0.5"
   ]
  },
  {
   "cell_type": "markdown",
   "id": "8783454b",
   "metadata": {},
   "source": [
    "## 3. Phase d'entrainement\n",
    "Une fois les fonctions de base sont implémentées et testées , il suffit de les utiliser pour créer notre vrai neurone artificiel "
   ]
  },
  {
   "cell_type": "code",
   "execution_count": 231,
   "id": "e10af5a6",
   "metadata": {},
   "outputs": [],
   "source": [
    "def artificial_neuron(X, Y, learning_rate=0.01, n_iterations=100):   \n",
    "    W, b = initialisation(X)\n",
    "    \n",
    "    loss_history = np.zeros(n_iterations) # création d'un tableau de stockage pour enregistrer l'évolution du Cout du modele\n",
    "    \n",
    "    for i in range(0,n_iterations):\n",
    "        A = model(X, W, b)\n",
    "        loss_history[i] = log_loss(A, Y) # on enregistre la valeur du Cout au tour i dans loss_history[i]\n",
    "        dW, db = gradients(A, X, Y)\n",
    "        W, b = gradient_descent(W, b, dW, db, learning_rate) # mise a jour des parametres W et b (formule du gradient descent)\n",
    "    return W, b, loss_history"
   ]
  },
  {
   "cell_type": "code",
   "execution_count": 237,
   "id": "541b4a46",
   "metadata": {},
   "outputs": [],
   "source": [
    "# Test de la fonction artifiartificial_neuron\n",
    "n_iterations = 600\n",
    "learning_rate = 0.01\n",
    "\n",
    "\n",
    "W, b, loss_history = artificial_neuron(X_train, Y_train, learning_rate, n_iterations)"
   ]
  },
  {
   "cell_type": "markdown",
   "id": "6db743fc",
   "metadata": {},
   "source": [
    "### Courbe d'apprentissage\n",
    "Pour visualiser l'évaluation de la descente de gradient on peut créer un graphique qui trace la fonction cout en fonction du nombre d'itérations. Si notre descente de gradient a bien fonctionner, on doit obtenir une courbe qui diminue progressivement jusqu'à converger vers un certain minimum. Si on n'observe pas de stabilisation, alors cela signifie que le modele n'a pas terminé son apprentissage et qu'il faut soit augmenter le nombre d'itérations de la descente de gradien ou bien le pas (learning_rate)"
   ]
  },
  {
   "cell_type": "code",
   "execution_count": 233,
   "id": "d6313d50",
   "metadata": {},
   "outputs": [
    {
     "data": {
      "text/plain": [
       "[<matplotlib.lines.Line2D at 0x2937ad1fc40>]"
      ]
     },
     "execution_count": 233,
     "metadata": {},
     "output_type": "execute_result"
    },
    {
     "data": {
      "image/png": "[encoded data removed]",
      "text/plain": [
       "<Figure size 432x288 with 1 Axes>"
      ]
     },
     "metadata": {
      "needs_background": "light"
     },
     "output_type": "display_data"
    }
   ],
   "source": [
    "plt.plot(range(n_iterations),loss_history)"
   ]
  },
  {
   "cell_type": "markdown",
   "id": "b193749d",
   "metadata": {},
   "source": [
    "## 4. Phase de prédiction"
   ]
  },
  {
   "cell_type": "code",
   "execution_count": 238,
   "id": "c80fb8b1",
   "metadata": {},
   "outputs": [],
   "source": [
    "predictions = predict(X_test, W, b)"
   ]
  },
  {
   "cell_type": "markdown",
   "id": "0a3a9d0b",
   "metadata": {},
   "source": [
    "## 5. Frontiere de décision"
   ]
  },
  {
   "cell_type": "code",
   "execution_count": 235,
   "id": "04ee09da",
   "metadata": {},
   "outputs": [
    {
     "data": {
      "text/plain": [
       "[<matplotlib.lines.Line2D at 0x2937a6aaaf0>]"
      ]
     },
     "execution_count": 235,
     "metadata": {},
     "output_type": "execute_result"
    },
    {
     "data": {
      "image/png": "[encoded data removed]",
      "text/plain": [
       "<Figure size 648x432 with 1 Axes>"
      ]
     },
     "metadata": {
      "needs_background": "light"
     },
     "output_type": "display_data"
    }
   ],
   "source": [
    "fig, ax = plt.subplots(figsize=(9, 6))\n",
    "ax.scatter(X[:,0], X[:, 1], c=Y, cmap='summer')\n",
    "\n",
    "x1 = np.linspace(-1, 4, 100)\n",
    "x1 = x1.reshape(100,1)\n",
    "x2 = ( - W[0] * x1 - b) / W[1]\n",
    "\n",
    "ax.plot(x1, x2, c='orange', lw=3)"
   ]
  },
  {
   "cell_type": "markdown",
   "id": "44e0175e",
   "metadata": {},
   "source": [
    "## 6. Evaluation du modèle"
   ]
  },
  {
   "cell_type": "code",
   "execution_count": 239,
   "id": "6a70cf79",
   "metadata": {},
   "outputs": [
    {
     "name": "stdout",
     "output_type": "stream",
     "text": [
      "0.95\n"
     ]
    }
   ],
   "source": [
    "print(accuracy_score(Y_test, predictions))"
   ]
  }
 ],
 "metadata": {
  "kernelspec": {
   "display_name": "Python 3 (ipykernel)",
   "language": "python",
   "name": "python3"
  },
  "language_info": {
   "codemirror_mode": {
    "name": "ipython",
    "version": 3
   },
   "file_extension": ".py",
   "mimetype": "text/x-python",
   "name": "python",
   "nbconvert_exporter": "python",
   "pygments_lexer": "ipython3",
   "version": "3.9.7"
  }
 },
 "nbformat": 4,
 "nbformat_minor": 5
}
