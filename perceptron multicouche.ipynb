{
 "cells": [
  {
   "cell_type": "code",
   "execution_count": 2,
   "id": "06c7c1f8",
   "metadata": {},
   "outputs": [],
   "source": [
    "import numpy as np\n",
    "import matplotlib.pyplot as plt\n",
    "from sklearn.datasets import make_blobs, make_circles\n",
    "from sklearn.metrics import accuracy_score, log_loss\n",
    "from tqdm import tqdm\n",
    "from sklearn.model_selection import train_test_split"
   ]
  },
  {
   "cell_type": "markdown",
   "id": "203aadf4",
   "metadata": {},
   "source": [
    "# 1. Dataset\n",
    "Génération de données aléatoires avec une tendance non linéaire avec make_circles : on a un dataset (x, y) qui contient 100 exemples, et deux variables x1.et x2\n",
    "\n",
    "Note: chaque fois que la cellule est executée, des données différentes sont générer donc on affecte à l'argument random_state la valeur 0 pour reproduire le meme Dataset à chaque fois."
   ]
  },
  {
   "cell_type": "code",
   "execution_count": 20,
   "id": "7582aca8",
   "metadata": {},
   "outputs": [
    {
     "data": {
      "text/plain": [
       "<matplotlib.collections.PathCollection at 0x1fe561b3ee0>"
      ]
     },
     "execution_count": 20,
     "metadata": {},
     "output_type": "execute_result"
    },
    {
     "data": {
      "image/png": "[encoded data removed]",
      "text/plain": [
       "<Figure size 432x288 with 1 Axes>"
      ]
     },
     "metadata": {
      "needs_background": "light"
     },
     "output_type": "display_data"
    }
   ],
   "source": [
    "x,y = make_circles(n_samples=100, noise=0.1, factor=0.3, random_state=0)\n",
    "\n",
    "plt.scatter(x[:,0], x[:,1], c=y , cmap=\"summer\") # afficher les résultats. X[:,0] en abscisse et X[:,1] en ordonnée"
   ]
  },
  {
   "cell_type": "markdown",
   "id": "3abdec95",
   "metadata": {},
   "source": [
    "Pour effectuer un calcul matriciel correct, il est important de vérifier les dimensions de X et Y. On remarque que y n'a pas les dimensions (100, 1). On corrige le probleme avec np.reshape"
   ]
  },
  {
   "cell_type": "code",
   "execution_count": 4,
   "id": "99e2e25c",
   "metadata": {},
   "outputs": [
    {
     "name": "stdout",
     "output_type": "stream",
     "text": [
      "Les dimensions de X :  (100, 2)\n",
      "Les dimensions de Y :  (100,)\n",
      "Les nouvelles dimensions de Y :  (100, 1)\n"
     ]
    }
   ],
   "source": [
    "print('Les dimensions de X : ',x.shape)\n",
    "print('Les dimensions de Y : ',y.shape)\n",
    "\n",
    "# redimensionner y\n",
    "y = y.reshape(y.shape[0], 1)\n",
    "\n",
    "print('Les nouvelles dimensions de Y : ',y.shape)"
   ]
  },
  {
   "cell_type": "markdown",
   "id": "27265775",
   "metadata": {},
   "source": [
    "#### Division de X et Y en sous ensemble train et test"
   ]
  },
  {
   "cell_type": "code",
   "execution_count": 5,
   "id": "94537a11",
   "metadata": {},
   "outputs": [
    {
     "name": "stdout",
     "output_type": "stream",
     "text": [
      "(80, 2)\n",
      "(20, 2)\n"
     ]
    }
   ],
   "source": [
    "x_train, x_test, y_train, y_test = train_test_split(x, y, test_size=0.2, random_state=5)\n",
    "\n",
    "print(x_train.shape)\n",
    "print(x_test.shape)"
   ]
  },
  {
   "cell_type": "code",
   "execution_count": 6,
   "id": "c1398a07",
   "metadata": {},
   "outputs": [
    {
     "name": "stdout",
     "output_type": "stream",
     "text": [
      "X :  (2, 100)\n",
      "Y :  (2, 100)\n",
      "X_train :  (2, 80)\n",
      "Y_train :  (1, 80)\n",
      "X_test :  (2, 20)\n",
      "Y_test :  (1, 20)\n"
     ]
    }
   ],
   "source": [
    "# on transpose les matrices\n",
    "X = x.T\n",
    "Y = x.T\n",
    "X_train = x_train.T\n",
    "Y_train = y_train.T\n",
    "X_test = x_test.T\n",
    "Y_test = y_test.T\n",
    "\n",
    "print('X : ',X.shape)\n",
    "print('Y : ',Y.shape)\n",
    "print('X_train : ',X_train.shape)\n",
    "print('Y_train : ',Y_train.shape)\n",
    "print('X_test : ',X_test.shape)\n",
    "print('Y_test : ',Y_test.shape)"
   ]
  },
  {
   "cell_type": "markdown",
   "id": "92997bdd",
   "metadata": {},
   "source": [
    "# 2. Fonctions du modèle\n",
    "### - Initialisation des parametres W et b de chaque couche"
   ]
  },
  {
   "cell_type": "code",
   "execution_count": 7,
   "id": "0ef38427",
   "metadata": {},
   "outputs": [],
   "source": [
    "def initialisations(dimensions):\n",
    "    \n",
    "    parametres = {}\n",
    "    C = len(dimensions)\n",
    "\n",
    "    np.random.seed(1)\n",
    "\n",
    "    for c in range(1, C):\n",
    "        parametres['W' + str(c)] = np.random.randn(dimensions[c], dimensions[c - 1])\n",
    "        parametres['b' + str(c)] = np.random.randn(dimensions[c], 1)\n",
    "\n",
    "    return parametres"
   ]
  },
  {
   "cell_type": "markdown",
   "id": "dcf0acba",
   "metadata": {},
   "source": [
    "### - Modele\n",
    "On implémente la fonction qui represente notre modele celle dans laquelle on va retrouver les fonctions lineaires $Z^{[c]} = W^{[c]}.A^{[c-1]} + b^{[c]}$ puis les fonctions d'activation sigmoïde (ou fonctions logistiques) $ A^{[c]} = \\frac{1}{1 + e^{-Z^{[c]}}}  $ "
   ]
  },
  {
   "cell_type": "code",
   "execution_count": 8,
   "id": "413ba779",
   "metadata": {},
   "outputs": [],
   "source": [
    "def forward_propagation(X, parametres):\n",
    "    activations = {'A0': X}\n",
    "\n",
    "    C = len(parametres) // 2\n",
    "\n",
    "    for c in range(1, C + 1):\n",
    "        Z = parametres['W' + str(c)].dot(activations['A' + str(c - 1)]) + parametres['b' + str(c)]\n",
    "        activations['A' + str(c)] = 1 / (1 + np.exp(-Z))\n",
    "\n",
    "    return activations"
   ]
  },
  {
   "cell_type": "markdown",
   "id": "e9a23fee",
   "metadata": {},
   "source": [
    "### - Gradients et Descente de Gradient\n",
    "On Calcul le gradient de la fonction cout grace aux formules suivantes : \n",
    "\n",
    "$dZ^{[C_f]}=A^{[C_f]}-y$\n",
    "\n",
    "$dW^{[C]}= \\frac {1}{m}*dZ^{[C]}.A^{[C-1]^{T}}$\n",
    "\n",
    "$db^{[C]}=\\frac {1}{m}*\\sum {dZ^{[C]}}$\n",
    "\n",
    "\n",
    "$dZ^{[C-1]}={W^{[C]}}^{T}.dZ^{[C]}*A^{[C-1]}*(1-A^{[C-1]})$\n",
    "\n",
    "Puis nous utiliserons ces gradients dans la fonction descente de gradient qui permettra de mettre à jour les parametres W et b\n",
    "pour minimiser les erreurs\n",
    "\n",
    "$W^{[C]} = W^{[C]} - \\alpha  dW^{[C]}$\n",
    "\n",
    "$b^{[C]} = b^{[C]} - \\alpha  dW^{[C]}$"
   ]
  },
  {
   "cell_type": "code",
   "execution_count": 9,
   "id": "d4a32e21",
   "metadata": {},
   "outputs": [],
   "source": [
    "def back_propagation(y, parametres, activations):\n",
    "    m = y.shape[1]\n",
    "    C = len(parametres) // 2\n",
    "\n",
    "    dZ = activations['A' + str(C)] - y\n",
    "    gradients = {}\n",
    "\n",
    "    for c in reversed(range(1, C + 1)):\n",
    "        gradients['dW' + str(c)] = 1/m * np.dot(dZ, activations['A' + str(c - 1)].T)\n",
    "        gradients['db' + str(c)] = 1/m * np.sum(dZ, axis=1, keepdims=True)\n",
    "        if c > 1:\n",
    "            dZ = np.dot(parametres['W' + str(c)].T, dZ) * activations['A' + str(c - 1)] * (1 - activations['A' + str(c - 1)])\n",
    "\n",
    "    return gradients"
   ]
  },
  {
   "cell_type": "code",
   "execution_count": 10,
   "id": "a1a5b222",
   "metadata": {},
   "outputs": [],
   "source": [
    "def gradient_descent(gradients, parametres, learning_rate):\n",
    "\n",
    "    C = len(parametres) // 2\n",
    "\n",
    "    for c in range(1, C + 1):\n",
    "        parametres['W' + str(c)] = parametres['W' + str(c)] - learning_rate * gradients['dW' + str(c)]\n",
    "        parametres['b' + str(c)] = parametres['b' + str(c)] - learning_rate * gradients['db' + str(c)]\n",
    "\n",
    "    return parametres"
   ]
  },
  {
   "cell_type": "markdown",
   "id": "8b650b01",
   "metadata": {},
   "source": [
    "### - Prédiction"
   ]
  },
  {
   "cell_type": "code",
   "execution_count": 11,
   "id": "3d3dd840",
   "metadata": {},
   "outputs": [],
   "source": [
    "def predict(X, parametres):\n",
    "    activations = forward_propagation(X, parametres)\n",
    "    C = len(parametres) // 2\n",
    "    Af = activations['A' + str(C)]\n",
    "    return Af >= 0.5"
   ]
  },
  {
   "cell_type": "code",
   "execution_count": 12,
   "id": "4962fac8",
   "metadata": {},
   "outputs": [],
   "source": [
    "def neural_network(X_train, Y_train, X_test, Y_test, hidden_layers = (16, 16, 16), learning_rate = 0.001, n_iterations = 3000):\n",
    "    \n",
    "    # initialisation parametres\n",
    "    dimensions = list(hidden_layers)\n",
    "    dimensions.insert(0, X_train.shape[0])\n",
    "    dimensions.append(Y_train.shape[0])\n",
    "    np.random.seed(1)\n",
    "    parametres = initialisations(dimensions)\n",
    "\n",
    "    train_loss = []\n",
    "    train_acc = []\n",
    "\n",
    "    C = len(parametres) // 2\n",
    "\n",
    "    # gradient descent\n",
    "    for i in tqdm(range(n_iterations)):\n",
    "\n",
    "        activations = forward_propagation(X_train, parametres)\n",
    "        gradients = back_propagation(Y_train, parametres, activations)\n",
    "        parametres = gradient_descent(gradients, parametres, learning_rate)\n",
    "        Af = activations['A' + str(C)]\n",
    "        \n",
    "        # calcul du log_loss et de l'accuracy\n",
    "        train_loss.append(log_loss(Y_train,activations['A'+str(C)]))\n",
    "        y_pred = predict(X_test, parametres)\n",
    "        train_acc.append(accuracy_score(Y_test.flatten(), y_pred.flatten()))\n",
    "        \n",
    "    # Visualisation des résultats\n",
    "    fig, ax = plt.subplots(nrows=1,ncols=2,figsize=(18, 4))\n",
    "    ax[0].plot(train_loss, label=\"Train loss\")\n",
    "    ax[0].legend()\n",
    "                         \n",
    "    ax[1].plot(train_acc, label=\"Train acc\")\n",
    "    ax[1].legend()                    \n",
    "    plt.show \n",
    "                         \n",
    "    return train_acc,parametres"
   ]
  },
  {
   "cell_type": "markdown",
   "id": "95d796c8",
   "metadata": {},
   "source": [
    "# Test"
   ]
  },
  {
   "cell_type": "code",
   "execution_count": 13,
   "id": "bd7c7c9e",
   "metadata": {},
   "outputs": [
    {
     "name": "stderr",
     "output_type": "stream",
     "text": [
      "100%|██████████| 3000/3000 [00:03<00:00, 782.16it/s]\n"
     ]
    },
    {
     "name": "stdout",
     "output_type": "stream",
     "text": [
      "Le score final :  1.0\n"
     ]
    },
    {
     "data": {
      "image/png": "[encoded data removed]",
      "text/plain": [
       "<Figure size 1296x288 with 2 Axes>"
      ]
     },
     "metadata": {
      "needs_background": "light"
     },
     "output_type": "display_data"
    }
   ],
   "source": [
    "train_acc, parametres = neural_network(X_train, Y_train, X_test, Y_test, hidden_layers = (16, 16, 16), learning_rate = 0.1)\n",
    "print('Le score final : ',train_acc[len(train_acc)-1])"
   ]
  },
  {
   "cell_type": "markdown",
   "id": "62ec1006",
   "metadata": {},
   "source": [
    "## Frontière de décision"
   ]
  },
  {
   "cell_type": "code",
   "execution_count": 17,
   "id": "ccd98f8d",
   "metadata": {},
   "outputs": [],
   "source": [
    "# Helper function to plot a decision boundary\n",
    "def plot_decision_boundary(X_test,Y_test,parametres):\n",
    "    # Set min and max values and give it some padding\n",
    "    x_min,x_max= X_test[0,:].min()-.5, X_test[0,:].max()+.5\n",
    "    y_min,y_max= X_test[1,:].min()-.5, X_test[1,:].max()+.5\n",
    "    h=0.01\n",
    "    \n",
    "    # Generate a grid of points with distance h between them\n",
    "    xx,yy=np.meshgrid(np.arange(x_min,x_max,h),np.arange(y_min,y_max, h))\n",
    "    # Predict the value for the whole grid\n",
    "    xx_ = np.c_[xx.ravel(),yy.ravel()].T\n",
    "    Z=predict(xx_,parametres)\n",
    "    Z=Z.reshape(xx.shape)\n",
    "\n",
    "    # Plot the contour and training examples\n",
    "    plt.contourf(xx,yy,Z,cmap=\"Greys\")\n",
    "    plt.scatter(X_test[0,:],X_test[1,:],c=Y_test[0,:],cmap=\"Wistia\")\n",
    "    plt.colorbar()"
   ]
  },
  {
   "cell_type": "code",
   "execution_count": 18,
   "id": "ec7ac2af",
   "metadata": {},
   "outputs": [
    {
     "data": {
      "image/png": "[encoded data removed]",
      "text/plain": [
       "<Figure size 432x288 with 2 Axes>"
      ]
     },
     "metadata": {
      "needs_background": "light"
     },
     "output_type": "display_data"
    }
   ],
   "source": [
    "y_pred = predict(X_test, parametres)\n",
    "plot_decision_boundary(X_test,y_pred,parametres)"
   ]
  }
 ],
 "metadata": {
  "kernelspec": {
   "display_name": "Python 3 (ipykernel)",
   "language": "python",
   "name": "python3"
  },
  "language_info": {
   "codemirror_mode": {
    "name": "ipython",
    "version": 3
   },
   "file_extension": ".py",
   "mimetype": "text/x-python",
   "name": "python",
   "nbconvert_exporter": "python",
   "pygments_lexer": "ipython3",
   "version": "3.9.7"
  }
 },
 "nbformat": 4,
 "nbformat_minor": 5
}
